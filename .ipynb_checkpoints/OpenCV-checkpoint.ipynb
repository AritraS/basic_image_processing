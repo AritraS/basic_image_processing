{
 "cells": [
  {
   "cell_type": "code",
   "execution_count": 1,
   "id": "a1fd58b2-7e0c-49be-9e38-851eb0a8fd79",
   "metadata": {},
   "outputs": [],
   "source": [
    "def get_concat(im1,im2):\n",
    "    dst = Image.new('RGB', (im1.width+im2.width, im1.height))\n",
    "    dst.paste(im1,(0,0))\n",
    "    dst.paste(im2, (im1.width,0))\n",
    "    return dst"
   ]
  },
  {
   "cell_type": "code",
   "execution_count": 3,
   "id": "8d1ebdd1-0c6e-49c5-911f-290f72bb4a87",
   "metadata": {},
   "outputs": [],
   "source": [
    "my_image=\"lenna.png\""
   ]
  },
  {
   "cell_type": "code",
   "execution_count": 7,
   "id": "01ca5621-2556-4278-ac26-b754d49bd95d",
   "metadata": {},
   "outputs": [
    {
     "data": {
      "text/plain": [
       "'C:\\\\Users\\\\atrsr\\\\OneDrive - Widener University\\\\Coursera\\\\ImageProcessing'"
      ]
     },
     "execution_count": 7,
     "metadata": {},
     "output_type": "execute_result"
    }
   ],
   "source": [
    "import os\n",
    "cwd = os.getcwd()\n",
    "cwd"
   ]
  },
  {
   "cell_type": "code",
   "execution_count": 11,
   "id": "d2861458-2013-43d3-ac18-2280936703a8",
   "metadata": {},
   "outputs": [
    {
     "data": {
      "text/plain": [
       "'C:\\\\Users\\\\atrsr\\\\OneDrive - Widener University\\\\Coursera\\\\ImageProcessing\\\\lenna.png'"
      ]
     },
     "execution_count": 11,
     "metadata": {},
     "output_type": "execute_result"
    }
   ],
   "source": [
    "image_path = os.path.join(cwd, my_image)\n",
    "image_path"
   ]
  },
  {
   "cell_type": "code",
   "execution_count": null,
   "id": "6fbde926-dac7-4a2b-acf1-5399f3d5a04b",
   "metadata": {},
   "outputs": [],
   "source": []
  }
 ],
 "metadata": {
  "kernelspec": {
   "display_name": "Python [conda env:base] *",
   "language": "python",
   "name": "conda-base-py"
  },
  "language_info": {
   "codemirror_mode": {
    "name": "ipython",
    "version": 3
   },
   "file_extension": ".py",
   "mimetype": "text/x-python",
   "name": "python",
   "nbconvert_exporter": "python",
   "pygments_lexer": "ipython3",
   "version": "3.12.7"
  }
 },
 "nbformat": 4,
 "nbformat_minor": 5
}
